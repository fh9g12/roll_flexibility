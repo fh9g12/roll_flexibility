{
 "cells": [
  {
   "cell_type": "code",
   "execution_count": 1,
   "id": "9e8e459d-e9e3-4c40-9db7-9dfd85773ce4",
   "metadata": {},
   "outputs": [],
   "source": [
    "import sympy as sym\n",
    "import sympy.physics.mechanics as me\n",
    "from sympy.abc import t\n",
    "import moyra as ma\n",
    "me.mechanics_printing()"
   ]
  },
  {
   "cell_type": "code",
   "execution_count": 2,
   "id": "24bea7ba-24c7-4ab8-beec-c309647f01a7",
   "metadata": {},
   "outputs": [],
   "source": [
    "# define Degrees of freedom\n",
    "bending = 3\n",
    "in_plane_bend = 0\n",
    "torsion = 2\n",
    "inner_dofs = bending + in_plane_bend + torsion\n",
    "DoFs = inner_dofs + 1 + 1\n",
    "# DoFs = inner_dofs"
   ]
  },
  {
   "cell_type": "code",
   "execution_count": 3,
   "id": "437ce478-d7fe-4fec-ade2-145f2314bb9a",
   "metadata": {},
   "outputs": [],
   "source": [
    "# generate parameters\n",
    "p = ma.DynamicModelParameters(DoFs)\n",
    "\n",
    "#gravity vector\n",
    "p.DoFs = ma.ModelSymbol(value = DoFs,string = 'DoFs')                     # DoFs\n",
    "p.g  = ma.ModelSymbol(value = 9.81,string = 'g')                     # gravity\n",
    "p.g_v = ma.ModelVector(value =[0,0,-1],length=3,string='g_v') # The stationary point\n",
    "\n",
    "# main geometric properties\n",
    "p.y_h = ma.ModelSymbol(value = 0.3,string = 'y_h')                  # y position of hinge line along beam axis\n",
    "p.Lambda = ma.ModelSymbol(value = 0.3,string = 'Lambda')            # Flare Angle\n",
    "\n",
    "# inner beam properties\n",
    "p.b_i = ma.ModelSymbol(value = 0.3,string = 'b_i')                  # y position beam end\n",
    "p.rho_b = ma.ModelSymbol(value = 0.3,string = 'rho_b')              # density per unit area      \n",
    "p.c_b = ma.ModelSymbol(value = 0.3,string = 'c_b')                  # beam chord\n",
    "p.EI = ma.ModelSymbol(value = 0.3,string = 'EI')                    # beam flexural rigidity\n",
    "p.GJ = ma.ModelSymbol(value = 0.3,string = 'GJ')                    # beam torsional rigidity\n",
    "p.K = ma.ModelSymbol(value = 0.3,string = 'K')                      # beam Cross Coupling\n",
    "\n",
    "# inner Section mass properties\n",
    "p.m_s = ma.ModelSymbol(value = 0,string = 'm_s')                    # Sectional Mass\n",
    "p.I_s = ma.ModelVector(length=3,string='I_s')        # Moments of Inertia for Section \n",
    "p.x_s = ma.ModelSymbol(value = 0.3,string = 'x_s')                  # x postion of the CoM of each section \n",
    "p.y_s = ma.ModelVector(length=3,string='y_s')        # y position of each of the 3 sections\n",
    "\n",
    "# # Aileron servo mass properties\n",
    "# p.m_sv = ma.ModelSymbol(value = 0,string = 'm_sv')                  # Servo Mass\n",
    "# p.X_sv = ma.ModelMatrix(value =[1,1,0],length=3,string='X_sv')      # Servo x,y,z postion (z ignored)\n",
    "\n",
    "# inner Hinge mass properties\n",
    "p.m_h = ma.ModelSymbol(value = 0,string = 'm_h')                    # additional hinge mass section\n",
    "p.I_h = ma.ModelVector(value =[0,0,0],length=3,string='I_h')        # Moments of inertia of additonal hinge mass\n",
    "p.X_h = ma.ModelVector(value =[1,1,0],length=3,string='X_h')        # location of addtional hinge mass (z ignored)\n",
    "p.k_h = ma.ModelSymbol(value = 0,string = 'k_h')                    # Hinge Stiffness\n",
    "p.d_h = ma.ModelSymbol(value = 0,string = 'd_h')                    # Hinge Damping\n",
    "\n",
    "# FWT mass properties\n",
    "p.m_f = ma.ModelSymbol(value = 0,string = 'm_f')                    # FWT mass\n",
    "p.I_f = ma.ModelVector(value =[0,0,0],length=3,string='I_f')        # FWT moments of inertia\n",
    "p.X_f = ma.ModelVector(value =[1,1,0],length=3,string='X_f')        # location of FWT CoM relative to hinge semi-chord\n",
    "\n",
    "# Xb = ma.ModelVector(value =[1,1,0],length=3,string='Xb')\n",
    "# Xb[0],Xb[1],p.Gamma_0 = sym.symbols('x_0,y_0,Gamma_0')\n",
    "p.Gamma_0 = sym.symbols('Gamma_0')\n",
    "Xb = ma.VarVector('Xb',3,1)"
   ]
  },
  {
   "cell_type": "code",
   "execution_count": 4,
   "id": "74f80fbf-d5e9-4cd5-bbe8-901ae5899611",
   "metadata": {},
   "outputs": [],
   "source": [
    "## GET INNER WING ELEMENTS\n",
    "# get shape function\n",
    "q_f = p.q[1:inner_dofs+1]\n",
    "S,tau = ma.elements.FlexiElement.ShapeFunctions_OBM_IBN_TO(bending,in_plane_bend,torsion,q_f,Xb[1],Xb[0],0,1,type='taylor')\n",
    "u = S*sym.Matrix(q_f) + sym.Matrix([Xb[0],Xb[1],0])\n",
    "body_frame = ma.frames.HomogenousFrame().R_x(p.q[0])\n",
    "inner_wing_frame = body_frame.Translate(*u)\n",
    "\n",
    "## create inner wing elements\n",
    "inner_elements = []\n",
    "# get beam element\n",
    "link2_x__int = (Xb[0],-p.c_b*sym.Rational(1,2),p.c_b*sym.Rational(1,2))\n",
    "link2_y_int = (Xb[1],0,p.b_i)\n",
    "main_wing_ele = ma.elements.FlexiElement(p.q,inner_wing_frame,p.rho_b,S,link2_x__int,link2_y_int,0,q_f,p.EI,p.GJ,grav_vec = p.g*p.g_v,simplify = False, name=\"Inner Beam\",K=p.K)\n",
    "inner_elements.append(main_wing_ele)\n",
    "\n",
    "# get wing section elements\n",
    "M_s = ma.elements.MassMatrix(p.m_s,*p.I_s)\n",
    "for i in range(len(p.y_s)):\n",
    "    tmp_frame = inner_wing_frame.R_y(tau).subs({Xb[0]:p.x_s,Xb[1]:p.y_s[i]})\n",
    "    inner_elements.append(ma.elements.RigidElement(p.q,tmp_frame,M_s,grav_vec = p.g*p.g_v, simplify = False, name=f\"Wing Section {i+1}\"))\n",
    "    \n",
    "# get hinge mass element\n",
    "M = ma.elements.MassMatrix(p.m_h,*p.I_h)\n",
    "tmp_frame = inner_wing_frame.R_y(tau).subs({Xb[0]:p.X_h[0],Xb[1]:p.X_h[1]})\n",
    "inner_elements.append(ma.elements.RigidElement(p.q,tmp_frame,M,grav_vec = p.g*p.g_v, simplify = False, name=\"Hinge Mass Element\"))\n",
    "\n",
    "# # get servo mass element\n",
    "# M = ma.elements.MassMatrix(p.m_sv,0,0,0)\n",
    "# tmp_frame = inner_wing_frame.subs({Xb[0]:p.X_sv[0],Xb[1]:p.X_sv[1]})\n",
    "# inner_elements.append(ma.elements.RigidElement(p.q,tmp_frame,M,grav_vec = p.g*p.g_v, simplify = False, name=\"Servo Mass Element\"))"
   ]
  },
  {
   "cell_type": "code",
   "execution_count": 5,
   "id": "86d08bdd-ccd4-49b4-8c3c-58d73c2cd903",
   "metadata": {},
   "outputs": [],
   "source": [
    "## GET FWT ELEMENT\n",
    "\n",
    "# get angles at end of inner beam\n",
    "dz_dy = u.subs({Xb[0]:0}).diff(Xb[1]).subs({Xb[1]:p.y_h})\n",
    "dz_dx = u.subs({Xb[1]:p.y_h}).diff(Xb[0]).subs({Xb[0]:0})\n",
    "Ry = sym.Function('Ry')(t)\n",
    "Rx = sym.Function('Rx')(t)\n",
    "\n",
    "# get fwt frames\n",
    "# hinge_rot = ma.frames.HomogenousFrame().R_y(dz_dx[2]/dz_dx[0]).R_z(p.Lambda).simplify().A\n",
    "# fold_rot = ma.frames.HomogenousFrame().R_x(dz_dy[2]/dz_dy[1]-p.q[-1]).R_z(-p.Lambda).simplify().A\n",
    "\n",
    "# hinge_rot = ma.frames.HomogenousFrame().R_y(-dz_dx[2]/dz_dx[0]).R_x(p.Gamma_0).R_z(p.Lambda).simplify().A\n",
    "hinge_rot = ma.frames.HomogenousFrame().R_y(Ry).R_x(Rx).R_z(p.Lambda).simplify().A\n",
    "fold_rot = ma.frames.HomogenousFrame().R_x(-p.q[-1]).R_z(-p.Lambda).simplify().A\n",
    "\n",
    "# hinge_rot = ma.frames.HomogenousFrame().R_y_small(Ry,ExpandCosine=False).R_x_small(Rx,ExpandCosine=False).R_z(p.Lambda).simplify().A\n",
    "# fold_rot = ma.frames.HomogenousFrame().R_x(-p.q[-1]).R_z(-p.Lambda).simplify().A\n",
    "\n",
    "hinge_frame = inner_wing_frame.subs({Xb[1]:p.y_h,Xb[0]:0}).Rotate(hinge_rot).simplify()\n",
    "fwt_base_frame = hinge_frame.Rotate(fold_rot).simplify()\n",
    "fwt_frame = fwt_base_frame.Translate(*p.X_f)\n",
    "\n",
    "#create fwt main elements\n",
    "fwt_elements = []\n",
    "M = ma.elements.MassMatrix(p.m_f,p.I_f[0],p.I_f[1],p.I_f[2])\n",
    "# M = ma.elements.MassMatrix(p.m_f,0,0,0)\n",
    "fwt_elements.append(ma.elements.RigidElement(p.q,fwt_frame,M,grav_vec = p.g*p.g_v, simplify = False,name=\"FWT\"))\n",
    "\n",
    "# get hinge spring and damper elements\n",
    "fwt_elements.append(ma.elements.Spring(p.q,p.q[-1],p.k_h,name=\"Hinge Spring\"))\n",
    "fwt_elements.append(ma.elements.Damper(p.q,p.q[-1],p.d_h,name=\"Hinge Damper\"))\n"
   ]
  },
  {
   "cell_type": "code",
   "execution_count": 6,
   "id": "e3b766ba-87b7-443d-bdf7-41ac3ca90530",
   "metadata": {},
   "outputs": [
    {
     "name": "stdout",
     "output_type": "stream",
     "text": [
      "Generating EoM for Element 1 out of 8 - Inner Beam:FlexiElement\n",
      "Generating EoM for Element 2 out of 8 - Wing Section 1:RigidElement\n",
      "Generating EoM for Element 3 out of 8 - Wing Section 2:RigidElement\n",
      "Generating EoM for Element 4 out of 8 - Wing Section 3:RigidElement\n",
      "Generating EoM for Element 5 out of 8 - Hinge Mass Element:RigidElement\n",
      "Generating EoM for Element 6 out of 8 - FWT:RigidElement\n",
      "Generating EoM for Element 7 out of 8 - Hinge Spring:Spring\n",
      "Generating EoM for Element 8 out of 8 - Hinge Damper:Damper\n"
     ]
    }
   ],
   "source": [
    "# sm = ma.SymbolicModel.FromElementsAndForces(p.q,[*inner_elements,*fwt_elements])\n",
    "# Xi = ma.VarVector('Xi',3)\n",
    "\n",
    "\n",
    "# subs = {p.Gamma_0:dz_dy[2]/dz_dy[1]}\n",
    "\n",
    "subs = {Rx.diff(t):(dz_dy[2]/dz_dy[1]).diff(t),Ry.diff(t):(-dz_dx[2]/dz_dx[0]).diff(t),\n",
    "          Rx:dz_dy[2]/dz_dy[1],Ry:-dz_dx[2]/dz_dx[0]}\n",
    "# subs = {Rx.diff(t):0,Ry.diff(t):0,\n",
    "#           Rx:dz_dy[2]/dz_dy[1],Ry:-dz_dx[2]/dz_dx[0]}\n",
    "\n",
    "sm = ma.SymbolicModel.FromElementsAndForces(p.q,[*inner_elements,*fwt_elements]).subs(subs)\n",
    "# sm = ma.SymbolicModel.FromElementsAndForces(p.q,[inner_elements[0]]).subs(subs)\n",
    "fwt_frame = fwt_frame.subs(subs)\n",
    "fwt_base_frame = fwt_base_frame.subs(subs)\n",
    "# %lprun -f ma.SymbolicModel.FromElementsAndForces ma.SymbolicModel.FromElementsAndForces(p.q,[main_wing_ele,fwt_ele])"
   ]
  },
  {
   "cell_type": "code",
   "execution_count": 7,
   "id": "69a69477",
   "metadata": {},
   "outputs": [],
   "source": [
    "funcs = []\n",
    "Xi = ma.VarVector('Xi',3,1)\n",
    "funcs.append(('get_pos_inner_wing',inner_wing_frame.transform_point([0]*3)))\n",
    "funcs.append(('get_pos_fwt',fwt_frame.transform_point(Xi)))\n",
    "funcs.append(('get_fwt_V_b',fwt_base_frame.A.T*fwt_base_frame.transform_point(Xi).diff(t)))\n",
    "funcs.append(('get_fwt_V_global',fwt_base_frame.transform_point(Xi).diff(t)))\n",
    "funcs.append(('get_pos_global2fwt',fwt_base_frame.transform_global_point(Xi)))\n",
    "funcs.append(('get_pos_fwt2global',fwt_base_frame.transform_point(Xi)))\n",
    "funcs.append(('get_fwt_V_b_body',body_frame.A.T*fwt_base_frame.transform_point(Xi).diff(t)))\n",
    "funcs.append(('get_hda',dz_dy[2]/dz_dy[1]))\n",
    "funcs.append(('get_fwt_A',fwt_frame.A))\n",
    "funcs.append(('get_inner_A',inner_wing_frame.A))\n",
    "funcs.append(('get_body_A',body_frame.A))\n",
    "\n",
    "funcs.append(('get_inner_V_b',inner_wing_frame.A.T*inner_wing_frame.R.diff(t)))"
   ]
  },
  {
   "cell_type": "code",
   "execution_count": 8,
   "id": "7364c24a-3fb1-403c-a873-b7d8dca5ef65",
   "metadata": {},
   "outputs": [],
   "source": [
    "fwt_normal = fwt_frame.transform_vector([0,0,1])\n",
    "fwt_hinge_vector = fwt_frame.transform_vector([sym.cos(p.Lambda),sym.sin(p.Lambda),0])\n",
    "surf = inner_wing_frame.transform_point([0]*3)\n",
    "v = ma.Wedge(surf.diff(Xb[0]))*surf.diff(Xb[1])\n",
    "hinge_normal = sym.simplify(v.subs({Xb[0]:0,Xb[1]:p.y_h}))\n",
    "surf = inner_wing_frame.transform_point([0]*3)\n",
    "funcs.append(('get_surf_x',surf.subs({Xb[0]:1})-surf.subs({Xb[0]:0})))\n",
    "funcs.append(('get_surf_z',sym.simplify(v)))\n",
    "funcs.append(('get_fold',p.q[-1]))\n",
    "funcs.append(('get_fold_dt',p.qd[-1]))\n",
    "funcs.append(('get_hinge_normal',hinge_normal))\n",
    "funcs.append(('get_fwt_normal',fwt_normal))\n",
    "funcs.append(('get_fwt_hinge_vector',fwt_hinge_vector))"
   ]
  },
  {
   "cell_type": "code",
   "execution_count": 9,
   "id": "232c6d23",
   "metadata": {},
   "outputs": [],
   "source": [
    "# generate generic force symbols\n",
    "F_x,F_y,F_z,M_x,M_y,M_z = sym.symbols('F_x,F_y,F_z,M_x,M_y,M_z')\n",
    "W_n = sym.Matrix([F_x,F_y,F_z,M_x,M_y,M_z])\n",
    "W = ma.VarVector('W',6,1)\n",
    "#create function for an arbitary force on FWT\n",
    "fwt_Q = fwt_base_frame.Translate(*Xi).BodyJacobian(p.q).T*W_n\n",
    "fwt_Q = me.msubs(fwt_Q,{**{W_n[i]:W[i,0] for i in range(6)}})\n",
    "funcs.append(('get_fwt_Q',me.msubs(fwt_Q,{p.q[0]:0,p.qd[0]:0}))) # roll does not affect the generalised force\n",
    "\n",
    "#create function for an arbitary force on Main Wing\n",
    "MW_Q = inner_wing_frame.BodyJacobian(p.q).T*W_n\n",
    "MW_Q = me.msubs(MW_Q,{**{W_n[i]:W[i,0] for i in range(6)}})\n",
    "funcs.append(('get_inner_Q',me.msubs(MW_Q,{p.q[0]:0,p.qd[0]:0}))) # roll does not affect the generalised force"
   ]
  },
  {
   "cell_type": "code",
   "execution_count": 10,
   "id": "d92e31bc-92e5-4479-9868-07c4cae53ee8",
   "metadata": {},
   "outputs": [
    {
     "name": "stdout",
     "output_type": "stream",
     "text": [
      "Unknown variable Xb found in function get_pos_inner_wing. It will be added to the function signature.\n",
      "Unknown variable Xi found in function get_pos_fwt. It will be added to the function signature.\n",
      "Unknown variable Xi found in function get_fwt_V_b. It will be added to the function signature.\n",
      "Unknown variable Xi found in function get_fwt_V_global. It will be added to the function signature.\n",
      "Unknown variable Xi found in function get_pos_global2fwt. It will be added to the function signature.\n",
      "Unknown variable Xi found in function get_pos_fwt2global. It will be added to the function signature.\n",
      "Unknown variable Xi found in function get_fwt_V_b_body. It will be added to the function signature.\n",
      "Unknown variable Xb found in function get_inner_V_b. It will be added to the function signature.\n",
      "Unknown variable Xb found in function get_surf_x. It will be added to the function signature.\n",
      "Unknown variable Xb found in function get_surf_z. It will be added to the function signature.\n",
      "Unknown variable Xi found in function get_fwt_Q. It will be added to the function signature.\n",
      "Unknown variable W found in function get_fwt_Q. It will be added to the function signature.\n",
      "Unknown variable Xb found in function get_inner_Q. It will be added to the function signature.\n",
      "Unknown variable W found in function get_inner_Q. It will be added to the function signature.\n"
     ]
    }
   ],
   "source": [
    "base_dir = \"C:/git/roll_flexibility/src_matlab\"\n",
    "class_name = f'Roll_B{bending}T{torsion}_FWT_RC'\n",
    "base_class = \"mbd.BaseRC\"\n",
    "sm.to_matlab_class(p,base_dir,class_name,base_class,additional_funcs=funcs)"
   ]
  },
  {
   "cell_type": "code",
   "execution_count": null,
   "id": "6d3ed8ba",
   "metadata": {},
   "outputs": [],
   "source": []
  }
 ],
 "metadata": {
  "kernelspec": {
   "display_name": ".venv",
   "language": "python",
   "name": "python3"
  },
  "language_info": {
   "codemirror_mode": {
    "name": "ipython",
    "version": 3
   },
   "file_extension": ".py",
   "mimetype": "text/x-python",
   "name": "python",
   "nbconvert_exporter": "python",
   "pygments_lexer": "ipython3",
   "version": "3.12.5"
  },
  "vscode": {
   "interpreter": {
    "hash": "55878f864c121e5e9cc4e1a707e759a8fa8d70b0f2470f23d65d58abc23b9db9"
   }
  }
 },
 "nbformat": 4,
 "nbformat_minor": 5
}
